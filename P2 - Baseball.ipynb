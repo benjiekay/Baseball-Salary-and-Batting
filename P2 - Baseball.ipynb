{
 "cells": [
  {
   "cell_type": "code",
   "execution_count": 1,
   "metadata": {
    "collapsed": true
   },
   "outputs": [],
   "source": [
    "import matplotlib.pyplot as plt\n",
    "import numpy as np\n",
    "import pandas as pd\n",
    "import seaborn as sns\n",
    "%matplotlib inline\n",
    "\n",
    "filename = 'Salaries.csv'\n",
    "salaries_df = pd.read_csv(filename)\n",
    "\n",
    "filename = 'Batting.csv'\n",
    "batting_df = pd.read_csv(filename)"
   ]
  },
  {
   "cell_type": "markdown",
   "metadata": {},
   "source": [
    "Question: Which of the batting stats best correlate/indicator of the salary the following year\n",
    "\n",
    "1. delete pre-1990\n",
    "2. merge all stints (players that played for more than one team in a season)\n",
    "3. take only records with more than 30 at-bat\n",
    "4. divide all stats by at-bat\n",
    "5. add Salary to stats, according to playerID from Salaries.csv, but shift salary up one year\n",
    "6. pick an option of finding correlation between salary and each batting stats\n",
    "- find average stats/salary for the year, and the number of times above/under the average\n",
    "- other already established/panda-installed method for finding correlation?"
   ]
  },
  {
   "cell_type": "code",
   "execution_count": 2,
   "metadata": {
    "collapsed": true
   },
   "outputs": [],
   "source": [
    "#1. delete pre-1990\n",
    "df = batting_df[batting_df.yearID > 1990]"
   ]
  },
  {
   "cell_type": "code",
   "execution_count": 3,
   "metadata": {
    "collapsed": true
   },
   "outputs": [],
   "source": [
    "#2. merge all stints (players that played for more than one team in a season)\n",
    "#group playerID and yearID\n",
    "df = df.groupby(['yearID', 'playerID']).sum()"
   ]
  },
  {
   "cell_type": "code",
   "execution_count": 4,
   "metadata": {
    "collapsed": true
   },
   "outputs": [],
   "source": [
    "#3. take only records with more than 30 at-bat\n",
    "df = df[df.AB > 30]"
   ]
  },
  {
   "cell_type": "code",
   "execution_count": 5,
   "metadata": {
    "collapsed": true
   },
   "outputs": [],
   "source": [
    "#4. divide all stats by at-bat\n",
    "avg_df = df.div(df['AB'],axis = 'index')\n",
    "avg_df = avg_df.reset_index()"
   ]
  },
  {
   "cell_type": "code",
   "execution_count": 6,
   "metadata": {
    "collapsed": true
   },
   "outputs": [],
   "source": [
    "#5. add Salary to stats, according to playerID from Salaries.csv\n",
    "s_df = salaries_df[salaries_df.yearID > 1991]\n",
    "s_df = s_df.groupby(['playerID'])\n",
    "s_df = s_df['yearID','playerID','salary']\n",
    "s_df = s_df.apply(lambda x: x) #needed this line to make it a dataframe, not sure why I didn't need this earlier for df when I also used groupby\n",
    "s_df = s_df.reset_index(drop=True)\n",
    "\n",
    "def minus1(x):\n",
    "    return x - 1\n",
    "\n",
    "s_df['yearID'] = s_df['yearID'].apply(minus1) #trying to match batting stats with the salary next year"
   ]
  },
  {
   "cell_type": "code",
   "execution_count": 7,
   "metadata": {
    "collapsed": true
   },
   "outputs": [],
   "source": [
    "#6 add salaries to the batting stat avg_df\n",
    "dfNew =  s_df.merge(avg_df, on=['yearID', 'playerID'], how='inner')"
   ]
  },
  {
   "cell_type": "code",
   "execution_count": 17,
   "metadata": {
    "collapsed": false
   },
   "outputs": [
    {
     "data": {
      "text/plain": [
       "<matplotlib.text.Text at 0xe4a5940>"
      ]
     },
     "execution_count": 17,
     "metadata": {},
     "output_type": "execute_result"
    },
    {
     "data": {
      "image/png": "[encoded data removed]",
      "text/plain": [
       "<matplotlib.figure.Figure at 0xa8d50f0>"
      ]
     },
     "metadata": {},
     "output_type": "display_data"
    }
   ],
   "source": [
    "#Single-variable explorations, let's jump out for a second and look at the distributions of certain stats\n",
    "dfNew.salary.hist()\n",
    "plt.title('Salary Distribution')"
   ]
  },
  {
   "cell_type": "code",
   "execution_count": 22,
   "metadata": {
    "collapsed": false
   },
   "outputs": [
    {
     "data": {
      "text/plain": [
       "<matplotlib.text.Text at 0xdcf0898>"
      ]
     },
     "execution_count": 22,
     "metadata": {},
     "output_type": "execute_result"
    },
    {
     "data": {
      "image/png": "[encoded data removed]",
      "text/plain": [
       "<matplotlib.figure.Figure at 0xb6c3c50>"
      ]
     },
     "metadata": {},
     "output_type": "display_data"
    }
   ],
   "source": [
    "sns.boxplot(dfNew.salary, orient = 'v')\n",
    "plt.title('BoxPlot of Salary')\n",
    "plt.ylabel('Salary')"
   ]
  },
  {
   "cell_type": "code",
   "execution_count": 18,
   "metadata": {
    "collapsed": false
   },
   "outputs": [
    {
     "data": {
      "text/plain": [
       "<matplotlib.text.Text at 0xd372cf8>"
      ]
     },
     "execution_count": 18,
     "metadata": {},
     "output_type": "execute_result"
    },
    {
     "data": {
      "image/png": "[encoded data removed]",
      "text/plain": [
       "<matplotlib.figure.Figure at 0xe4826d8>"
      ]
     },
     "metadata": {},
     "output_type": "display_data"
    }
   ],
   "source": [
    "df.AB.hist()\n",
    "plt.title('At-Bats Distribution')\n",
    "plt.xlabel('At-Bat')\n",
    "plt.ylabel('Counts')"
   ]
  },
  {
   "cell_type": "markdown",
   "metadata": {},
   "source": [
    "In terms of distribution, we can see skewness and outliers in both Salary and At-Bat.We cannot use statistical tests that assume normality like T-tests, Z-tests, etc."
   ]
  },
  {
   "cell_type": "code",
   "execution_count": 8,
   "metadata": {
    "collapsed": true
   },
   "outputs": [],
   "source": [
    "#7. pick an option of finding correlation between salary and each batting stats\n",
    "\n",
    "salary_corr = dfNew.drop(['yearID','playerID','stint','G','AB'], 1)\n",
    "salary_corr = salary_corr.corr()['salary']"
   ]
  },
  {
   "cell_type": "code",
   "execution_count": 9,
   "metadata": {
    "collapsed": false
   },
   "outputs": [
    {
     "data": {
      "text/plain": [
       "<matplotlib.axes._subplots.AxesSubplot at 0xa326f98>"
      ]
     },
     "execution_count": 9,
     "metadata": {},
     "output_type": "execute_result"
    },
    {
     "data": {
      "image/png": "[encoded data removed]",
      "text/plain": [
       "<matplotlib.figure.Figure at 0xe0043c8>"
      ]
     },
     "metadata": {},
     "output_type": "display_data"
    }
   ],
   "source": [
    "salary_corr = salary_corr.drop('salary',0)\n",
    "dfBar = pd.DataFrame(salary_corr.values, index =  salary_corr.index.values)\n",
    "dfBar.columns = [\"VALUE\"]\n",
    "dfBar.plot(kind=\"bar\")"
   ]
  },
  {
   "cell_type": "markdown",
   "metadata": {},
   "source": [
    "AB is Nan since these are batting stats per-at-bat\n",
    "\n",
    "Here we see the highest correlated is the Home-Run (surprise), followed by Intentional-Base-n-Ball\n",
    "both makes a lot of sense, HR is self explanatory, IBB occurs to the most feared batters when pitcher rather have him walk than swing.\n",
    "3rd most correlated is Runs-Batted-In, a stat highly correlated with HR at 0.8 (see heatmap below), the highest of any two stats.\n",
    "Least correlated (closest to zero) are Strike-Outs (a surprise to me) and Hit-by-Pitch (tends to be accidental wild pitches).\n",
    "\n",
    "The most negatively correlated stats are Caught-Stealing (which is a negative stat) and Triple (interestingly, a positive stat)\n",
    "but at -0.11 and -0.10, neither were that closely related to salary.\n",
    "Another intersting stat is Ground-Into-Double-Play which is a negative stat but having a positive correlation at 0.02\n",
    "My hypothesis is that the good hitters are more frequently put into positions where runners are on base.\n",
    "\n",
    "Missing Data: None for avg_df (see avg_df.isnull().sum() below) since I've chosen 1990 as a cut off point of this analysis. Two reasons:\n",
    "1. Not all batting stats were recorded from the beginning, from In[6] at the bottom you can tell some stats were recorded since the inception of baseball, others only began to be recorded later on.\n",
    "2. Since the analysis involves salary, and the salary structures changes over time, specifically each time there's a Collective Bargaining Agreement, going too far back into the past would not make sense.\n",
    "\n",
    "\n",
    "LIMITATION\n",
    "I acknowledge the limitation of such analysis, taking the averages of per At-Bat is rather simple, I'm sure the industry has came up with better modified averages that adjusts more finely. \n",
    "Also a player's salary is impacted by his defensive performance and intangibles, which is not accounted for in this analysis.\n",
    "Also salaries are not renegotiated every year, better players gets longer contracts that performance has no impact on the salary throughout the life of the contract. If there was data on WHEN a new contract has been negotiated, the correlations should deemed stronger."
   ]
  },
  {
   "cell_type": "code",
   "execution_count": 10,
   "metadata": {
    "collapsed": false
   },
   "outputs": [
    {
     "name": "stdout",
     "output_type": "stream",
     "text": [
      "Axes(0.125,0.125;0.62x0.775)\n"
     ]
    },
    {
     "data": {
      "image/png": "[encoded data removed]",
      "text/plain": [
       "<matplotlib.figure.Figure at 0xa690588>"
      ]
     },
     "metadata": {},
     "output_type": "display_data"
    }
   ],
   "source": [
    "heatmap_corr = dfNew.drop(['yearID','playerID','stint','G','AB'], 1).corr()\n",
    "print sns.heatmap(heatmap_corr)"
   ]
  },
  {
   "cell_type": "markdown",
   "metadata": {},
   "source": [
    "Here's another look of the correlation but not just the salary, also between each batting stats. As mentioned earlier we can see the highly salary correlated stats (HR, RBI, BB) also correlates with each other. However, stats like R, H, 2B, while also highly correlates with other stats, don't correlates with salary as strongly."
   ]
  },
  {
   "cell_type": "code",
   "execution_count": 11,
   "metadata": {
    "collapsed": false
   },
   "outputs": [
    {
     "data": {
      "text/html": [
       "<div>\n",
       "<table border=\"1\" class=\"dataframe\">\n",
       "  <thead>\n",
       "    <tr style=\"text-align: right;\">\n",
       "      <th></th>\n",
       "      <th>playerID</th>\n",
       "      <th>yearID</th>\n",
       "      <th>stint</th>\n",
       "      <th>teamID</th>\n",
       "      <th>lgID</th>\n",
       "      <th>G</th>\n",
       "      <th>AB</th>\n",
       "      <th>R</th>\n",
       "      <th>H</th>\n",
       "      <th>2B</th>\n",
       "      <th>...</th>\n",
       "      <th>RBI</th>\n",
       "      <th>SB</th>\n",
       "      <th>CS</th>\n",
       "      <th>BB</th>\n",
       "      <th>SO</th>\n",
       "      <th>IBB</th>\n",
       "      <th>HBP</th>\n",
       "      <th>SH</th>\n",
       "      <th>SF</th>\n",
       "      <th>GIDP</th>\n",
       "    </tr>\n",
       "  </thead>\n",
       "  <tbody>\n",
       "    <tr>\n",
       "      <th>0</th>\n",
       "      <td>abercda01</td>\n",
       "      <td>1871</td>\n",
       "      <td>1</td>\n",
       "      <td>TRO</td>\n",
       "      <td>NaN</td>\n",
       "      <td>1</td>\n",
       "      <td>4.0</td>\n",
       "      <td>0.0</td>\n",
       "      <td>0.0</td>\n",
       "      <td>0.0</td>\n",
       "      <td>...</td>\n",
       "      <td>0.0</td>\n",
       "      <td>0.0</td>\n",
       "      <td>0.0</td>\n",
       "      <td>0.0</td>\n",
       "      <td>0.0</td>\n",
       "      <td>NaN</td>\n",
       "      <td>NaN</td>\n",
       "      <td>NaN</td>\n",
       "      <td>NaN</td>\n",
       "      <td>NaN</td>\n",
       "    </tr>\n",
       "    <tr>\n",
       "      <th>1</th>\n",
       "      <td>addybo01</td>\n",
       "      <td>1871</td>\n",
       "      <td>1</td>\n",
       "      <td>RC1</td>\n",
       "      <td>NaN</td>\n",
       "      <td>25</td>\n",
       "      <td>118.0</td>\n",
       "      <td>30.0</td>\n",
       "      <td>32.0</td>\n",
       "      <td>6.0</td>\n",
       "      <td>...</td>\n",
       "      <td>13.0</td>\n",
       "      <td>8.0</td>\n",
       "      <td>1.0</td>\n",
       "      <td>4.0</td>\n",
       "      <td>0.0</td>\n",
       "      <td>NaN</td>\n",
       "      <td>NaN</td>\n",
       "      <td>NaN</td>\n",
       "      <td>NaN</td>\n",
       "      <td>NaN</td>\n",
       "    </tr>\n",
       "    <tr>\n",
       "      <th>2</th>\n",
       "      <td>allisar01</td>\n",
       "      <td>1871</td>\n",
       "      <td>1</td>\n",
       "      <td>CL1</td>\n",
       "      <td>NaN</td>\n",
       "      <td>29</td>\n",
       "      <td>137.0</td>\n",
       "      <td>28.0</td>\n",
       "      <td>40.0</td>\n",
       "      <td>4.0</td>\n",
       "      <td>...</td>\n",
       "      <td>19.0</td>\n",
       "      <td>3.0</td>\n",
       "      <td>1.0</td>\n",
       "      <td>2.0</td>\n",
       "      <td>5.0</td>\n",
       "      <td>NaN</td>\n",
       "      <td>NaN</td>\n",
       "      <td>NaN</td>\n",
       "      <td>NaN</td>\n",
       "      <td>NaN</td>\n",
       "    </tr>\n",
       "    <tr>\n",
       "      <th>3</th>\n",
       "      <td>allisdo01</td>\n",
       "      <td>1871</td>\n",
       "      <td>1</td>\n",
       "      <td>WS3</td>\n",
       "      <td>NaN</td>\n",
       "      <td>27</td>\n",
       "      <td>133.0</td>\n",
       "      <td>28.0</td>\n",
       "      <td>44.0</td>\n",
       "      <td>10.0</td>\n",
       "      <td>...</td>\n",
       "      <td>27.0</td>\n",
       "      <td>1.0</td>\n",
       "      <td>1.0</td>\n",
       "      <td>0.0</td>\n",
       "      <td>2.0</td>\n",
       "      <td>NaN</td>\n",
       "      <td>NaN</td>\n",
       "      <td>NaN</td>\n",
       "      <td>NaN</td>\n",
       "      <td>NaN</td>\n",
       "    </tr>\n",
       "    <tr>\n",
       "      <th>4</th>\n",
       "      <td>ansonca01</td>\n",
       "      <td>1871</td>\n",
       "      <td>1</td>\n",
       "      <td>RC1</td>\n",
       "      <td>NaN</td>\n",
       "      <td>25</td>\n",
       "      <td>120.0</td>\n",
       "      <td>29.0</td>\n",
       "      <td>39.0</td>\n",
       "      <td>11.0</td>\n",
       "      <td>...</td>\n",
       "      <td>16.0</td>\n",
       "      <td>6.0</td>\n",
       "      <td>2.0</td>\n",
       "      <td>2.0</td>\n",
       "      <td>1.0</td>\n",
       "      <td>NaN</td>\n",
       "      <td>NaN</td>\n",
       "      <td>NaN</td>\n",
       "      <td>NaN</td>\n",
       "      <td>NaN</td>\n",
       "    </tr>\n",
       "  </tbody>\n",
       "</table>\n",
       "<p>5 rows × 22 columns</p>\n",
       "</div>"
      ],
      "text/plain": [
       "    playerID  yearID  stint teamID lgID   G     AB     R     H    2B  ...   \\\n",
       "0  abercda01    1871      1    TRO  NaN   1    4.0   0.0   0.0   0.0  ...    \n",
       "1   addybo01    1871      1    RC1  NaN  25  118.0  30.0  32.0   6.0  ...    \n",
       "2  allisar01    1871      1    CL1  NaN  29  137.0  28.0  40.0   4.0  ...    \n",
       "3  allisdo01    1871      1    WS3  NaN  27  133.0  28.0  44.0  10.0  ...    \n",
       "4  ansonca01    1871      1    RC1  NaN  25  120.0  29.0  39.0  11.0  ...    \n",
       "\n",
       "    RBI   SB   CS   BB   SO  IBB  HBP  SH  SF  GIDP  \n",
       "0   0.0  0.0  0.0  0.0  0.0  NaN  NaN NaN NaN   NaN  \n",
       "1  13.0  8.0  1.0  4.0  0.0  NaN  NaN NaN NaN   NaN  \n",
       "2  19.0  3.0  1.0  2.0  5.0  NaN  NaN NaN NaN   NaN  \n",
       "3  27.0  1.0  1.0  0.0  2.0  NaN  NaN NaN NaN   NaN  \n",
       "4  16.0  6.0  2.0  2.0  1.0  NaN  NaN NaN NaN   NaN  \n",
       "\n",
       "[5 rows x 22 columns]"
      ]
     },
     "execution_count": 11,
     "metadata": {},
     "output_type": "execute_result"
    }
   ],
   "source": [
    "batting_df.head()"
   ]
  },
  {
   "cell_type": "code",
   "execution_count": 12,
   "metadata": {
    "collapsed": false
   },
   "outputs": [
    {
     "data": {
      "text/plain": [
       "playerID        0\n",
       "yearID          0\n",
       "stint           0\n",
       "teamID          0\n",
       "lgID          737\n",
       "G               0\n",
       "AB           5149\n",
       "R            5149\n",
       "H            5149\n",
       "2B           5149\n",
       "3B           5149\n",
       "HR           5149\n",
       "RBI          5573\n",
       "SB           6449\n",
       "CS          28603\n",
       "BB           5149\n",
       "SO          12987\n",
       "IBB         41712\n",
       "HBP          7959\n",
       "SH          11487\n",
       "SF          41181\n",
       "GIDP        31257\n",
       "dtype: int64"
      ]
     },
     "execution_count": 12,
     "metadata": {},
     "output_type": "execute_result"
    }
   ],
   "source": [
    "batting_df.isnull().sum()"
   ]
  },
  {
   "cell_type": "code",
   "execution_count": 13,
   "metadata": {
    "collapsed": false
   },
   "outputs": [
    {
     "data": {
      "text/plain": [
       "yearID      0\n",
       "playerID    0\n",
       "stint       0\n",
       "G           0\n",
       "AB          0\n",
       "R           0\n",
       "H           0\n",
       "2B          0\n",
       "3B          0\n",
       "HR          0\n",
       "RBI         0\n",
       "SB          0\n",
       "CS          0\n",
       "BB          0\n",
       "SO          0\n",
       "IBB         0\n",
       "HBP         0\n",
       "SH          0\n",
       "SF          0\n",
       "GIDP        0\n",
       "dtype: int64"
      ]
     },
     "execution_count": 13,
     "metadata": {},
     "output_type": "execute_result"
    }
   ],
   "source": [
    "avg_df.isnull().sum()"
   ]
  }
 ],
 "metadata": {
  "kernelspec": {
   "display_name": "Python 2",
   "language": "python",
   "name": "python2"
  },
  "language_info": {
   "codemirror_mode": {
    "name": "ipython",
    "version": 2
   },
   "file_extension": ".py",
   "mimetype": "text/x-python",
   "name": "python",
   "nbconvert_exporter": "python",
   "pygments_lexer": "ipython2",
   "version": "2.7.11"
  }
 },
 "nbformat": 4,
 "nbformat_minor": 0
}
